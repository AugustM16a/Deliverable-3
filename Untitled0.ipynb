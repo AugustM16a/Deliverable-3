{
  "nbformat": 4,
  "nbformat_minor": 0,
  "metadata": {
    "colab": {
      "provenance": []
    },
    "kernelspec": {
      "name": "python3",
      "display_name": "Python 3"
    },
    "language_info": {
      "name": "python"
    }
  },
  "cells": [
    {
      "cell_type": "code",
      "execution_count": 4,
      "metadata": {
        "colab": {
          "base_uri": "https://localhost:8080/"
        },
        "id": "-v0uLEuaEQvW",
        "outputId": "9e08046d-5198-4b3b-f82c-e629468e9d5a"
      },
      "outputs": [
        {
          "output_type": "stream",
          "name": "stdout",
          "text": [
            "Iris DataFrame:\n",
            "     sepal_length  sepal_width  petal_length  petal_width  sepal_sum  \\\n",
            "0             5.1          3.5           1.4          0.2        8.6   \n",
            "1             4.9          3.0           1.4          0.2        7.9   \n",
            "2             4.7          3.2           1.3          0.2        7.9   \n",
            "3             4.6          3.1           1.5          0.2        7.7   \n",
            "4             5.0          3.6           1.4          0.2        8.6   \n",
            "..            ...          ...           ...          ...        ...   \n",
            "145           6.7          3.0           5.2          2.3        9.7   \n",
            "146           6.3          2.5           5.0          1.9        8.8   \n",
            "147           6.5          3.0           5.2          2.0        9.5   \n",
            "148           6.2          3.4           5.4          2.3        9.6   \n",
            "149           5.9          3.0           5.1          1.8        8.9   \n",
            "\n",
            "     petal_sum  \n",
            "0          1.6  \n",
            "1          1.6  \n",
            "2          1.5  \n",
            "3          1.7  \n",
            "4          1.6  \n",
            "..         ...  \n",
            "145        7.5  \n",
            "146        6.9  \n",
            "147        7.2  \n",
            "148        7.7  \n",
            "149        6.9  \n",
            "\n",
            "[150 rows x 6 columns]\n",
            "\n",
            "\n",
            "Summary Statistics:\n",
            "      sepal_length  sepal_width  petal_length  petal_width  sepal_sum  \\\n",
            "mean      5.843333     3.057333      3.758000     1.199333   8.900667   \n",
            "std       0.828066     0.435866      1.765298     0.762238   0.889272   \n",
            "min       4.300000     2.000000      1.000000     0.100000   6.800000   \n",
            "max       7.900000     4.400000      6.900000     2.500000  11.700000   \n",
            "\n",
            "      petal_sum  \n",
            "mean   4.957333  \n",
            "std    2.507689  \n",
            "min    1.200000  \n",
            "max    9.200000  \n"
          ]
        }
      ],
      "source": [
        "\n",
        "# Step (1)\n",
        "import pandas as pd\n",
        "import numpy as np\n",
        "import seaborn as sns\n",
        "\n",
        "# Step (2)\n",
        "iris = sns.load_dataset('iris')\n",
        "\n",
        "# Step (3):\n",
        "iris.drop('species', axis=1, inplace=True)\n",
        "\n",
        "# Step (4)\n",
        "iris['sepal_sum'] = iris['sepal_length'] + iris['sepal_width']\n",
        "iris['petal_sum'] = iris['petal_length'] + iris['petal_width']\n",
        "\n",
        "# Step (5)\n",
        "summary_stats = pd.DataFrame({\n",
        "    'mean': iris.mean(),\n",
        "    'std': iris.std(),\n",
        "    'min': iris.min(),\n",
        "    'max': iris.max()\n",
        "}).transpose()\n",
        "print(\"Iris DataFrame:\")\n",
        "print(iris)\n",
        "print(\"\\n\")\n",
        "\n",
        "# Print\n",
        "print(\"Summary Statistics:\")\n",
        "print(summary_stats)\n"
      ]
    }
  ]
}